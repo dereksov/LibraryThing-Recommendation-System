{
 "cells": [
  {
   "cell_type": "markdown",
   "metadata": {},
   "source": [
    "# LibraryThing Recommender System"
   ]
  },
  {
   "cell_type": "code",
   "execution_count": 1,
   "metadata": {},
   "outputs": [],
   "source": [
    "from collections import defaultdict\n",
    "import ast\n",
    "import random\n",
    "import numpy as np\n",
    "import pandas as pd\n",
    "import matplotlib.pylab as plt\n",
    "import scipy.optimize\n",
    "import sklearn as skl\n",
    "import tarfile\n",
    "import json\n",
    "import itertools"
   ]
  },
  {
   "cell_type": "code",
   "execution_count": 2,
   "metadata": {},
   "outputs": [],
   "source": [
    "tar = tarfile.open(\"lthing_data.tar.gz\", \"r:gz\") #found in https://cseweb.ucsd.edu/~jmcauley/datasets.html\n",
    "for member in tar.getmembers():\n",
    "     f = tar.extractfile(member)\n",
    "     if f is not None:\n",
    "         content = f.readlines()"
   ]
  },
  {
   "cell_type": "code",
   "execution_count": 3,
   "metadata": {},
   "outputs": [],
   "source": [
    "data = [ast.literal_eval(c.decode(\"utf-8\")) for c in content]"
   ]
  },
  {
   "cell_type": "code",
   "execution_count": 4,
   "metadata": {},
   "outputs": [
    {
     "data": {
      "text/plain": [
       "{'work': '3206242',\n",
       " 'flags': [],\n",
       " 'unixtime': 1194393600,\n",
       " 'stars': 5.0,\n",
       " 'nhelpful': 0,\n",
       " 'time': 'Nov 7, 2007',\n",
       " 'comment': 'This a great book for young readers to be introduced to the world of Middle Earth. ',\n",
       " 'user': 'van_stef'}"
      ]
     },
     "execution_count": 4,
     "metadata": {},
     "output_type": "execute_result"
    }
   ],
   "source": [
    "data[0]"
   ]
  },
  {
   "cell_type": "markdown",
   "metadata": {},
   "source": [
    "## Exploratory Analysis"
   ]
  },
  {
   "cell_type": "markdown",
   "metadata": {},
   "source": [
    "#### dataframe statistics (dimensions, dtypes)"
   ]
  },
  {
   "cell_type": "code",
   "execution_count": 5,
   "metadata": {},
   "outputs": [
    {
     "data": {
      "text/html": [
       "<div>\n",
       "<style scoped>\n",
       "    .dataframe tbody tr th:only-of-type {\n",
       "        vertical-align: middle;\n",
       "    }\n",
       "\n",
       "    .dataframe tbody tr th {\n",
       "        vertical-align: top;\n",
       "    }\n",
       "\n",
       "    .dataframe thead th {\n",
       "        text-align: right;\n",
       "    }\n",
       "</style>\n",
       "<table border=\"1\" class=\"dataframe\">\n",
       "  <thead>\n",
       "    <tr style=\"text-align: right;\">\n",
       "      <th></th>\n",
       "      <th>work</th>\n",
       "      <th>flags</th>\n",
       "      <th>unixtime</th>\n",
       "      <th>stars</th>\n",
       "      <th>nhelpful</th>\n",
       "      <th>time</th>\n",
       "      <th>comment</th>\n",
       "      <th>user</th>\n",
       "    </tr>\n",
       "  </thead>\n",
       "  <tbody>\n",
       "    <tr>\n",
       "      <th>0</th>\n",
       "      <td>3206242</td>\n",
       "      <td>[]</td>\n",
       "      <td>1.194394e+09</td>\n",
       "      <td>5.0</td>\n",
       "      <td>0</td>\n",
       "      <td>Nov 7, 2007</td>\n",
       "      <td>This a great book for young readers to be intr...</td>\n",
       "      <td>van_stef</td>\n",
       "    </tr>\n",
       "    <tr>\n",
       "      <th>1</th>\n",
       "      <td>12198649</td>\n",
       "      <td>[]</td>\n",
       "      <td>1.333757e+09</td>\n",
       "      <td>5.0</td>\n",
       "      <td>0</td>\n",
       "      <td>Apr 7, 2012</td>\n",
       "      <td>Help Wanted: Tales of On The Job Terror from E...</td>\n",
       "      <td>dwatson2</td>\n",
       "    </tr>\n",
       "    <tr>\n",
       "      <th>2</th>\n",
       "      <td>12533765</td>\n",
       "      <td>[]</td>\n",
       "      <td>1.352938e+09</td>\n",
       "      <td>NaN</td>\n",
       "      <td>0</td>\n",
       "      <td>Nov 15, 2012</td>\n",
       "      <td>Magoon, K. (2012). Fire in the streets. New Yo...</td>\n",
       "      <td>edspicer</td>\n",
       "    </tr>\n",
       "    <tr>\n",
       "      <th>3</th>\n",
       "      <td>12981302</td>\n",
       "      <td>[]</td>\n",
       "      <td>1.364515e+09</td>\n",
       "      <td>4.0</td>\n",
       "      <td>0</td>\n",
       "      <td>Mar 29, 2013</td>\n",
       "      <td>Well, I definitely liked this book better than...</td>\n",
       "      <td>amdrane2</td>\n",
       "    </tr>\n",
       "    <tr>\n",
       "      <th>4</th>\n",
       "      <td>5231009</td>\n",
       "      <td>[]</td>\n",
       "      <td>1.270944e+09</td>\n",
       "      <td>3.0</td>\n",
       "      <td>0</td>\n",
       "      <td>Apr 11, 2010</td>\n",
       "      <td>It's a nice science-fiction thriller with some...</td>\n",
       "      <td>Lila_Gustavus</td>\n",
       "    </tr>\n",
       "  </tbody>\n",
       "</table>\n",
       "</div>"
      ],
      "text/plain": [
       "       work flags      unixtime  stars  nhelpful          time  \\\n",
       "0   3206242    []  1.194394e+09    5.0         0   Nov 7, 2007   \n",
       "1  12198649    []  1.333757e+09    5.0         0   Apr 7, 2012   \n",
       "2  12533765    []  1.352938e+09    NaN         0  Nov 15, 2012   \n",
       "3  12981302    []  1.364515e+09    4.0         0  Mar 29, 2013   \n",
       "4   5231009    []  1.270944e+09    3.0         0  Apr 11, 2010   \n",
       "\n",
       "                                             comment           user  \n",
       "0  This a great book for young readers to be intr...       van_stef  \n",
       "1  Help Wanted: Tales of On The Job Terror from E...       dwatson2  \n",
       "2  Magoon, K. (2012). Fire in the streets. New Yo...       edspicer  \n",
       "3  Well, I definitely liked this book better than...       amdrane2  \n",
       "4  It's a nice science-fiction thriller with some...  Lila_Gustavus  "
      ]
     },
     "execution_count": 5,
     "metadata": {},
     "output_type": "execute_result"
    }
   ],
   "source": [
    "df = pd.DataFrame(data)\n",
    "df.head()"
   ]
  },
  {
   "cell_type": "code",
   "execution_count": 6,
   "metadata": {},
   "outputs": [
    {
     "data": {
      "text/plain": [
       "(1707070, 8)"
      ]
     },
     "execution_count": 6,
     "metadata": {},
     "output_type": "execute_result"
    }
   ],
   "source": [
    "df.shape"
   ]
  },
  {
   "cell_type": "code",
   "execution_count": 7,
   "metadata": {},
   "outputs": [
    {
     "data": {
      "text/plain": [
       "work         object\n",
       "flags        object\n",
       "unixtime    float64\n",
       "stars       float64\n",
       "nhelpful      int64\n",
       "time         object\n",
       "comment      object\n",
       "user         object\n",
       "dtype: object"
      ]
     },
     "execution_count": 7,
     "metadata": {},
     "output_type": "execute_result"
    }
   ],
   "source": [
    "df.dtypes"
   ]
  },
  {
   "cell_type": "markdown",
   "metadata": {},
   "source": [
    "#### set of works (book ids?)"
   ]
  },
  {
   "cell_type": "code",
   "execution_count": 8,
   "metadata": {},
   "outputs": [
    {
     "data": {
      "text/plain": [
       "506165"
      ]
     },
     "execution_count": 8,
     "metadata": {},
     "output_type": "execute_result"
    }
   ],
   "source": [
    "len(set(df['work']))"
   ]
  },
  {
   "cell_type": "code",
   "execution_count": 9,
   "metadata": {},
   "outputs": [
    {
     "data": {
      "text/plain": [
       "work\n",
       "4979986    2439\n",
       "8384326    1835\n",
       "1541442    1354\n",
       "393681     1224\n",
       "8662515    1165\n",
       "3577382    1154\n",
       "8019757    1097\n",
       "9279041    1067\n",
       "1222607    1018\n",
       "3067       1013\n",
       "Name: user, dtype: int64"
      ]
     },
     "execution_count": 9,
     "metadata": {},
     "output_type": "execute_result"
    }
   ],
   "source": [
    "df.groupby('work')['user'].count().sort_values(ascending=False).head(10)"
   ]
  },
  {
   "cell_type": "code",
   "execution_count": 10,
   "metadata": {},
   "outputs": [
    {
     "data": {
      "text/plain": [
       "539        SarahRamon1416\n",
       "1266          GodOcookies\n",
       "1436       BriannaGratien\n",
       "3583           eileenmary\n",
       "3628        Book_Mountain\n",
       "                ...      \n",
       "1705090       qwerasdfzxc\n",
       "1705888      bookaddict85\n",
       "1706156       MMWiseheart\n",
       "1706488     VenusofUrbino\n",
       "1706734            Squeex\n",
       "Name: user, Length: 2439, dtype: object"
      ]
     },
     "execution_count": 10,
     "metadata": {},
     "output_type": "execute_result"
    }
   ],
   "source": [
    "df.groupby('work')['user'].get_group('4979986')"
   ]
  },
  {
   "cell_type": "code",
   "execution_count": 94,
   "metadata": {},
   "outputs": [
    {
     "data": {
      "text/plain": [
       "454728"
      ]
     },
     "execution_count": 94,
     "metadata": {},
     "output_type": "execute_result"
    }
   ],
   "source": [
    "sum(df.groupby('work')['user'].count()<10)"
   ]
  },
  {
   "cell_type": "code",
   "execution_count": 176,
   "metadata": {},
   "outputs": [
    {
     "data": {
      "text/plain": [
       "<AxesSubplot:>"
      ]
     },
     "execution_count": 176,
     "metadata": {},
     "output_type": "execute_result"
    },
    {
     "data": {
      "image/png": "[encoded data removed]",
      "text/plain": [
       "<Figure size 432x288 with 1 Axes>"
      ]
     },
     "metadata": {
      "needs_background": "light"
     },
     "output_type": "display_data"
    }
   ],
   "source": [
    "df.groupby('work')['user'].count().hist(bins=25)"
   ]
  },
  {
   "cell_type": "code",
   "execution_count": 12,
   "metadata": {},
   "outputs": [
    {
     "data": {
      "text/plain": [
       "<AxesSubplot:>"
      ]
     },
     "execution_count": 12,
     "metadata": {},
     "output_type": "execute_result"
    },
    {
     "data": {
      "image/png": "[encoded data removed]",
      "text/plain": [
       "<Figure size 432x288 with 1 Axes>"
      ]
     },
     "metadata": {
      "needs_background": "light"
     },
     "output_type": "display_data"
    }
   ],
   "source": [
    "df.groupby('work')['user'].count()[df.groupby('work')['user'].count()<50].hist(bins=25)"
   ]
  },
  {
   "cell_type": "markdown",
   "metadata": {},
   "source": [
    "#### flags"
   ]
  },
  {
   "cell_type": "code",
   "execution_count": 13,
   "metadata": {},
   "outputs": [
    {
     "data": {
      "text/plain": [
       "71120"
      ]
     },
     "execution_count": 13,
     "metadata": {},
     "output_type": "execute_result"
    }
   ],
   "source": [
    "len([d for d in df['flags'] if d != []])"
   ]
  },
  {
   "cell_type": "code",
   "execution_count": 14,
   "metadata": {},
   "outputs": [
    {
     "data": {
      "text/plain": [
       "{'abuse', 'not_a_review'}"
      ]
     },
     "execution_count": 14,
     "metadata": {},
     "output_type": "execute_result"
    }
   ],
   "source": [
    "set(list(itertools.chain(*[d for d in df['flags'] if d != []])))"
   ]
  },
  {
   "cell_type": "markdown",
   "metadata": {},
   "source": [
    "#### bar plot of ratings, nan set to 0, no natural 0s"
   ]
  },
  {
   "cell_type": "code",
   "execution_count": 113,
   "metadata": {},
   "outputs": [
    {
     "data": {
      "text/plain": [
       "0.5186906690302271"
      ]
     },
     "execution_count": 113,
     "metadata": {},
     "output_type": "execute_result"
    }
   ],
   "source": [
    "np.mean(df['stars']>=4)"
   ]
  },
  {
   "cell_type": "code",
   "execution_count": 106,
   "metadata": {},
   "outputs": [
    {
     "data": {
      "text/plain": [
       "Text(0.5, 0, 'Stars')"
      ]
     },
     "execution_count": 106,
     "metadata": {},
     "output_type": "execute_result"
    },
    {
     "data": {
      "image/png": "[encoded data removed]",
      "text/plain": [
       "<Figure size 432x288 with 1 Axes>"
      ]
     },
     "metadata": {
      "needs_background": "light"
     },
     "output_type": "display_data"
    }
   ],
   "source": [
    "df['stars'].fillna(0).value_counts().plot.bar()\n",
    "plt.xlabel('Stars',size=11)"
   ]
  },
  {
   "cell_type": "markdown",
   "metadata": {},
   "source": [
    "#### histogram of helpful count"
   ]
  },
  {
   "cell_type": "code",
   "execution_count": 16,
   "metadata": {},
   "outputs": [
    {
     "data": {
      "text/plain": [
       "0      1525971\n",
       "1       130014\n",
       "2        28665\n",
       "3         9934\n",
       "4         4348\n",
       "        ...   \n",
       "65           1\n",
       "66           1\n",
       "67           1\n",
       "68           1\n",
       "332          1\n",
       "Name: nhelpful, Length: 83, dtype: int64"
      ]
     },
     "execution_count": 16,
     "metadata": {},
     "output_type": "execute_result"
    }
   ],
   "source": [
    "df['nhelpful'].value_counts()"
   ]
  },
  {
   "cell_type": "code",
   "execution_count": 17,
   "metadata": {},
   "outputs": [
    {
     "data": {
      "text/plain": [
       "155"
      ]
     },
     "execution_count": 17,
     "metadata": {},
     "output_type": "execute_result"
    }
   ],
   "source": [
    "# less than 1% of nonzero data greater than 25\n",
    "sum(df['nhelpful']>25)"
   ]
  },
  {
   "cell_type": "code",
   "execution_count": 118,
   "metadata": {},
   "outputs": [
    {
     "data": {
      "text/plain": [
       "0.9965078394816468"
      ]
     },
     "execution_count": 118,
     "metadata": {},
     "output_type": "execute_result"
    }
   ],
   "source": [
    "np.mean(df['nhelpful']<=5)"
   ]
  },
  {
   "cell_type": "code",
   "execution_count": 18,
   "metadata": {},
   "outputs": [
    {
     "data": {
      "text/plain": [
       "<AxesSubplot:>"
      ]
     },
     "execution_count": 18,
     "metadata": {},
     "output_type": "execute_result"
    },
    {
     "data": {
      "image/png": "[encoded data removed]",
      "text/plain": [
       "<Figure size 432x288 with 1 Axes>"
      ]
     },
     "metadata": {
      "needs_background": "light"
     },
     "output_type": "display_data"
    }
   ],
   "source": [
    "# cut off zeroes and extremes\n",
    "df['nhelpful'][df['nhelpful']>0][df['nhelpful']<25].hist(bins=25)"
   ]
  },
  {
   "cell_type": "markdown",
   "metadata": {},
   "source": [
    "#### unixtime / time simplified to year"
   ]
  },
  {
   "cell_type": "code",
   "execution_count": 19,
   "metadata": {},
   "outputs": [
    {
     "data": {
      "text/plain": [
       "<AxesSubplot:>"
      ]
     },
     "execution_count": 19,
     "metadata": {},
     "output_type": "execute_result"
    },
    {
     "data": {
      "image/png": "[encoded data removed]",
      "text/plain": [
       "<Figure size 432x288 with 1 Axes>"
      ]
     },
     "metadata": {
      "needs_background": "light"
     },
     "output_type": "display_data"
    }
   ],
   "source": [
    "df['time'].str.slice(-5).value_counts().plot.bar()"
   ]
  },
  {
   "cell_type": "markdown",
   "metadata": {},
   "source": [
    "#### comment length"
   ]
  },
  {
   "cell_type": "code",
   "execution_count": 20,
   "metadata": {},
   "outputs": [
    {
     "data": {
      "text/plain": [
       "<AxesSubplot:>"
      ]
     },
     "execution_count": 20,
     "metadata": {},
     "output_type": "execute_result"
    },
    {
     "data": {
      "image/png": "[encoded data removed]",
      "text/plain": [
       "<Figure size 432x288 with 1 Axes>"
      ]
     },
     "metadata": {
      "needs_background": "light"
     },
     "output_type": "display_data"
    }
   ],
   "source": [
    "df['comment'].apply(len).hist(bins=250)"
   ]
  },
  {
   "cell_type": "code",
   "execution_count": 145,
   "metadata": {},
   "outputs": [
    {
     "data": {
      "text/plain": [
       "64234"
      ]
     },
     "execution_count": 145,
     "metadata": {},
     "output_type": "execute_result"
    }
   ],
   "source": [
    "max(df['comment'].apply(len)) "
   ]
  },
  {
   "cell_type": "code",
   "execution_count": 22,
   "metadata": {},
   "outputs": [
    {
     "data": {
      "text/plain": [
       "<AxesSubplot:>"
      ]
     },
     "execution_count": 22,
     "metadata": {},
     "output_type": "execute_result"
    },
    {
     "data": {
      "image/png": "[encoded data removed]",
      "text/plain": [
       "<Figure size 432x288 with 1 Axes>"
      ]
     },
     "metadata": {
      "needs_background": "light"
     },
     "output_type": "display_data"
    }
   ],
   "source": [
    "df['comment'].apply(len)[df['comment'].apply(len) < 7000].sort_values().hist(bins=250)"
   ]
  },
  {
   "cell_type": "code",
   "execution_count": 23,
   "metadata": {},
   "outputs": [
    {
     "data": {
      "text/plain": [
       "84       7564\n",
       "83       5261\n",
       "8        5073\n",
       "4        4110\n",
       "47       3714\n",
       "         ... \n",
       "8867        1\n",
       "7413        1\n",
       "7639        1\n",
       "11507       1\n",
       "8724        1\n",
       "Name: comment, Length: 10477, dtype: int64"
      ]
     },
     "execution_count": 23,
     "metadata": {},
     "output_type": "execute_result"
    }
   ],
   "source": [
    "df['comment'].apply(len).value_counts()"
   ]
  },
  {
   "cell_type": "markdown",
   "metadata": {},
   "source": [
    "#### count of users"
   ]
  },
  {
   "cell_type": "code",
   "execution_count": 24,
   "metadata": {},
   "outputs": [
    {
     "data": {
      "text/plain": [
       "83195"
      ]
     },
     "execution_count": 24,
     "metadata": {},
     "output_type": "execute_result"
    }
   ],
   "source": [
    "len(set(df['user']))"
   ]
  },
  {
   "cell_type": "code",
   "execution_count": 131,
   "metadata": {},
   "outputs": [
    {
     "data": {
      "text/plain": [
       "user\n",
       "kijabi1         5620\n",
       "bluetyson       5380\n",
       "Schmerguls      4763\n",
       "roxy            4265\n",
       "wyvernfriend    4246\n",
       "GeniusJen       4155\n",
       "vdb             3537\n",
       "burnit99        3384\n",
       "jon1lambert     3218\n",
       "nwhyte          2906\n",
       "Name: work, dtype: int64"
      ]
     },
     "execution_count": 131,
     "metadata": {},
     "output_type": "execute_result"
    }
   ],
   "source": [
    "df.groupby('user')['work'].count().sort_values(ascending=False).head(10)"
   ]
  },
  {
   "cell_type": "code",
   "execution_count": 141,
   "metadata": {},
   "outputs": [
    {
     "data": {
      "text/plain": [
       "0.31115240720685244"
      ]
     },
     "execution_count": 141,
     "metadata": {},
     "output_type": "execute_result"
    }
   ],
   "source": [
    "np.mean(df.groupby('user')['work'].count()==1)"
   ]
  },
  {
   "cell_type": "code",
   "execution_count": 127,
   "metadata": {},
   "outputs": [
    {
     "data": {
      "text/plain": [
       "user\n",
       "kijabi1           5620\n",
       "bluetyson         5380\n",
       "Schmerguls        4763\n",
       "roxy              4265\n",
       "wyvernfriend      4246\n",
       "                  ... \n",
       "Shannonmatarau       1\n",
       "leobold1             1\n",
       "Shanshad             1\n",
       "leobabe              1\n",
       "zzzbbb               1\n",
       "Name: work, Length: 81256, dtype: int64"
      ]
     },
     "execution_count": 127,
     "metadata": {},
     "output_type": "execute_result"
    }
   ],
   "source": [
    "df.groupby('user')['work'].count().sort_values(ascending=False)"
   ]
  },
  {
   "cell_type": "code",
   "execution_count": 27,
   "metadata": {},
   "outputs": [
    {
     "data": {
      "text/plain": [
       "<AxesSubplot:>"
      ]
     },
     "execution_count": 27,
     "metadata": {},
     "output_type": "execute_result"
    },
    {
     "data": {
      "image/png": "[encoded data removed]",
      "text/plain": [
       "<Figure size 432x288 with 1 Axes>"
      ]
     },
     "metadata": {
      "needs_background": "light"
     },
     "output_type": "display_data"
    }
   ],
   "source": [
    "df.groupby('user')['work'].count()[df.groupby('user')['work'].count()<300].hist(bins=50)"
   ]
  },
  {
   "cell_type": "markdown",
   "metadata": {},
   "source": [
    "## 2. Set up data for recommendor systems implementation. Create train/validation set, double validation set by creating negatives for training"
   ]
  },
  {
   "cell_type": "code",
   "execution_count": 28,
   "metadata": {},
   "outputs": [],
   "source": [
    "# remove flagged data\n",
    "df = df[df['flags'].astype(str)== '[]']\n",
    "df = df[['work','stars','nhelpful','comment','user']]"
   ]
  },
  {
   "cell_type": "code",
   "execution_count": 68,
   "metadata": {},
   "outputs": [],
   "source": [
    "train = df[:-10000].reset_index()\n",
    "train['comment'] = train['comment'].apply(len)\n",
    "train = train.drop(columns='index')\n",
    "valid = df[-10000:].reset_index()\n",
    "valid = valid[['work','user','stars','nhelpful']]"
   ]
  },
  {
   "cell_type": "code",
   "execution_count": 69,
   "metadata": {},
   "outputs": [
    {
     "data": {
      "text/html": [
       "<div>\n",
       "<style scoped>\n",
       "    .dataframe tbody tr th:only-of-type {\n",
       "        vertical-align: middle;\n",
       "    }\n",
       "\n",
       "    .dataframe tbody tr th {\n",
       "        vertical-align: top;\n",
       "    }\n",
       "\n",
       "    .dataframe thead th {\n",
       "        text-align: right;\n",
       "    }\n",
       "</style>\n",
       "<table border=\"1\" class=\"dataframe\">\n",
       "  <thead>\n",
       "    <tr style=\"text-align: right;\">\n",
       "      <th></th>\n",
       "      <th>work</th>\n",
       "      <th>stars</th>\n",
       "      <th>nhelpful</th>\n",
       "      <th>comment</th>\n",
       "      <th>user</th>\n",
       "    </tr>\n",
       "  </thead>\n",
       "  <tbody>\n",
       "    <tr>\n",
       "      <th>0</th>\n",
       "      <td>3206242</td>\n",
       "      <td>5.0</td>\n",
       "      <td>0</td>\n",
       "      <td>83</td>\n",
       "      <td>van_stef</td>\n",
       "    </tr>\n",
       "  </tbody>\n",
       "</table>\n",
       "</div>"
      ],
      "text/plain": [
       "      work  stars  nhelpful  comment      user\n",
       "0  3206242    5.0         0       83  van_stef"
      ]
     },
     "execution_count": 69,
     "metadata": {},
     "output_type": "execute_result"
    }
   ],
   "source": [
    "train.head(1)"
   ]
  },
  {
   "cell_type": "code",
   "execution_count": 70,
   "metadata": {},
   "outputs": [
    {
     "data": {
      "text/html": [
       "<div>\n",
       "<style scoped>\n",
       "    .dataframe tbody tr th:only-of-type {\n",
       "        vertical-align: middle;\n",
       "    }\n",
       "\n",
       "    .dataframe tbody tr th {\n",
       "        vertical-align: top;\n",
       "    }\n",
       "\n",
       "    .dataframe thead th {\n",
       "        text-align: right;\n",
       "    }\n",
       "</style>\n",
       "<table border=\"1\" class=\"dataframe\">\n",
       "  <thead>\n",
       "    <tr style=\"text-align: right;\">\n",
       "      <th></th>\n",
       "      <th>work</th>\n",
       "      <th>user</th>\n",
       "      <th>stars</th>\n",
       "      <th>nhelpful</th>\n",
       "    </tr>\n",
       "  </thead>\n",
       "  <tbody>\n",
       "    <tr>\n",
       "      <th>0</th>\n",
       "      <td>24671</td>\n",
       "      <td>Thalia</td>\n",
       "      <td>4.0</td>\n",
       "      <td>0</td>\n",
       "    </tr>\n",
       "  </tbody>\n",
       "</table>\n",
       "</div>"
      ],
      "text/plain": [
       "    work    user  stars  nhelpful\n",
       "0  24671  Thalia    4.0         0"
      ]
     },
     "execution_count": 70,
     "metadata": {},
     "output_type": "execute_result"
    }
   ],
   "source": [
    "valid.head(1)"
   ]
  },
  {
   "cell_type": "code",
   "execution_count": 32,
   "metadata": {},
   "outputs": [],
   "source": [
    "userList = set(train['user'])\n",
    "workList = set(train['work'])\n",
    "\n",
    "# Utility data structures\n",
    "reviewsPerUser = train.groupby('user')\n",
    "reviewsPerWork = train.groupby('work')\n",
    "usersPerWork = train.groupby('work')['user']\n",
    "worksPerUser = train.groupby('user')['work']\n",
    "\n",
    "# .get_group(str)"
   ]
  },
  {
   "cell_type": "code",
   "execution_count": 71,
   "metadata": {},
   "outputs": [],
   "source": [
    "train = train.fillna(0)"
   ]
  },
  {
   "cell_type": "code",
   "execution_count": 72,
   "metadata": {},
   "outputs": [],
   "source": [
    "workStarMean = train.groupby('work')['stars'].mean()"
   ]
  },
  {
   "cell_type": "code",
   "execution_count": 73,
   "metadata": {},
   "outputs": [],
   "source": [
    "userHelpMean = train.groupby('user')['nhelpful'].mean()"
   ]
  },
  {
   "cell_type": "code",
   "execution_count": 89,
   "metadata": {},
   "outputs": [],
   "source": [
    "valid = valid.fillna(0)"
   ]
  },
  {
   "cell_type": "code",
   "execution_count": 34,
   "metadata": {},
   "outputs": [
    {
     "data": {
      "text/plain": [
       "False"
      ]
     },
     "execution_count": 34,
     "metadata": {},
     "output_type": "execute_result"
    }
   ],
   "source": [
    "'birdg47' in userList"
   ]
  },
  {
   "cell_type": "code",
   "execution_count": 35,
   "metadata": {},
   "outputs": [],
   "source": [
    "nullPairs = []\n",
    "prev = None\n",
    "\n",
    "for user in valid['user']:\n",
    "    if user not in userList:\n",
    "        user = prev\n",
    "    neg = workList - set(worksPerUser.get_group(user))\n",
    "    rItem = random.choice(list(neg))\n",
    "    nullPairs += [[rItem, user]]\n",
    "    prev = user"
   ]
  },
  {
   "cell_type": "code",
   "execution_count": 86,
   "metadata": {},
   "outputs": [],
   "source": [
    "temp = [n + [workStarMean[n[0]],userHelpMean[n[1]]] for n in nullPairs]"
   ]
  },
  {
   "cell_type": "code",
   "execution_count": 85,
   "metadata": {},
   "outputs": [],
   "source": [
    "valid = valid.append(pd.DataFrame(temp,index=range(10000,20000),columns=['work','user','stars','nhelpful']))\n",
    "valid['read'] = [1]*10000 + [0]*10000"
   ]
  },
  {
   "cell_type": "markdown",
   "metadata": {},
   "source": [
    "### popularity"
   ]
  },
  {
   "cell_type": "code",
   "execution_count": 90,
   "metadata": {},
   "outputs": [
    {
     "data": {
      "text/html": [
       "<div>\n",
       "<style scoped>\n",
       "    .dataframe tbody tr th:only-of-type {\n",
       "        vertical-align: middle;\n",
       "    }\n",
       "\n",
       "    .dataframe tbody tr th {\n",
       "        vertical-align: top;\n",
       "    }\n",
       "\n",
       "    .dataframe thead th {\n",
       "        text-align: right;\n",
       "    }\n",
       "</style>\n",
       "<table border=\"1\" class=\"dataframe\">\n",
       "  <thead>\n",
       "    <tr style=\"text-align: right;\">\n",
       "      <th></th>\n",
       "      <th>work</th>\n",
       "      <th>user</th>\n",
       "      <th>stars</th>\n",
       "      <th>nhelpful</th>\n",
       "      <th>read</th>\n",
       "      <th>popular</th>\n",
       "    </tr>\n",
       "  </thead>\n",
       "  <tbody>\n",
       "    <tr>\n",
       "      <th>0</th>\n",
       "      <td>24671</td>\n",
       "      <td>Thalia</td>\n",
       "      <td>4.0</td>\n",
       "      <td>0.000000</td>\n",
       "      <td>1</td>\n",
       "      <td>1</td>\n",
       "    </tr>\n",
       "    <tr>\n",
       "      <th>1</th>\n",
       "      <td>435827</td>\n",
       "      <td>LMClibrary</td>\n",
       "      <td>0.0</td>\n",
       "      <td>0.000000</td>\n",
       "      <td>1</td>\n",
       "      <td>0</td>\n",
       "    </tr>\n",
       "    <tr>\n",
       "      <th>2</th>\n",
       "      <td>10261765</td>\n",
       "      <td>pollywannabook</td>\n",
       "      <td>5.0</td>\n",
       "      <td>0.000000</td>\n",
       "      <td>1</td>\n",
       "      <td>1</td>\n",
       "    </tr>\n",
       "    <tr>\n",
       "      <th>3</th>\n",
       "      <td>5927153</td>\n",
       "      <td>aleya79</td>\n",
       "      <td>4.5</td>\n",
       "      <td>3.000000</td>\n",
       "      <td>1</td>\n",
       "      <td>1</td>\n",
       "    </tr>\n",
       "    <tr>\n",
       "      <th>4</th>\n",
       "      <td>8574826</td>\n",
       "      <td>chrystalm</td>\n",
       "      <td>5.0</td>\n",
       "      <td>0.000000</td>\n",
       "      <td>1</td>\n",
       "      <td>1</td>\n",
       "    </tr>\n",
       "    <tr>\n",
       "      <th>...</th>\n",
       "      <td>...</td>\n",
       "      <td>...</td>\n",
       "      <td>...</td>\n",
       "      <td>...</td>\n",
       "      <td>...</td>\n",
       "      <td>...</td>\n",
       "    </tr>\n",
       "    <tr>\n",
       "      <th>19995</th>\n",
       "      <td>385125</td>\n",
       "      <td>Jellyn</td>\n",
       "      <td>5.0</td>\n",
       "      <td>0.032609</td>\n",
       "      <td>0</td>\n",
       "      <td>0</td>\n",
       "    </tr>\n",
       "    <tr>\n",
       "      <th>19996</th>\n",
       "      <td>5542886</td>\n",
       "      <td>ShanaPat</td>\n",
       "      <td>4.0</td>\n",
       "      <td>0.026316</td>\n",
       "      <td>0</td>\n",
       "      <td>0</td>\n",
       "    </tr>\n",
       "    <tr>\n",
       "      <th>19997</th>\n",
       "      <td>1789647</td>\n",
       "      <td>koeniel</td>\n",
       "      <td>1.5</td>\n",
       "      <td>0.681818</td>\n",
       "      <td>0</td>\n",
       "      <td>0</td>\n",
       "    </tr>\n",
       "    <tr>\n",
       "      <th>19998</th>\n",
       "      <td>1724195</td>\n",
       "      <td>Ductor</td>\n",
       "      <td>5.0</td>\n",
       "      <td>0.343750</td>\n",
       "      <td>0</td>\n",
       "      <td>0</td>\n",
       "    </tr>\n",
       "    <tr>\n",
       "      <th>19999</th>\n",
       "      <td>50822</td>\n",
       "      <td>vincent1959</td>\n",
       "      <td>0.0</td>\n",
       "      <td>0.000000</td>\n",
       "      <td>0</td>\n",
       "      <td>0</td>\n",
       "    </tr>\n",
       "  </tbody>\n",
       "</table>\n",
       "<p>20000 rows × 6 columns</p>\n",
       "</div>"
      ],
      "text/plain": [
       "           work            user  stars  nhelpful  read  popular\n",
       "0         24671          Thalia    4.0  0.000000     1        1\n",
       "1        435827      LMClibrary    0.0  0.000000     1        0\n",
       "2      10261765  pollywannabook    5.0  0.000000     1        1\n",
       "3       5927153         aleya79    4.5  3.000000     1        1\n",
       "4       8574826       chrystalm    5.0  0.000000     1        1\n",
       "...         ...             ...    ...       ...   ...      ...\n",
       "19995    385125          Jellyn    5.0  0.032609     0        0\n",
       "19996   5542886        ShanaPat    4.0  0.026316     0        0\n",
       "19997   1789647         koeniel    1.5  0.681818     0        0\n",
       "19998   1724195          Ductor    5.0  0.343750     0        0\n",
       "19999     50822     vincent1959    0.0  0.000000     0        0\n",
       "\n",
       "[20000 rows x 6 columns]"
      ]
     },
     "execution_count": 90,
     "metadata": {},
     "output_type": "execute_result"
    }
   ],
   "source": [
    "mostPopular = usersPerWork.count().sort_values(ascending=False)\n",
    "return1 = set()\n",
    "count = 0\n",
    "\n",
    "for index, value in mostPopular.items():\n",
    "    count += value\n",
    "    return1.add(index)\n",
    "    if count > len(train)//2: break\n",
    "        \n",
    "valid['popular'] = valid['work'].isin(return1).astype(int)\n",
    "\n",
    "valid"
   ]
  },
  {
   "cell_type": "code",
   "execution_count": 91,
   "metadata": {},
   "outputs": [
    {
     "data": {
      "text/plain": [
       "0.7234"
      ]
     },
     "execution_count": 91,
     "metadata": {},
     "output_type": "execute_result"
    }
   ],
   "source": [
    "np.mean(valid['popular'] == valid['read'])"
   ]
  },
  {
   "cell_type": "code",
   "execution_count": 39,
   "metadata": {},
   "outputs": [],
   "source": [
    "accs = []\n",
    "for threshold in [x*.01 for x in range(0,101)]:\n",
    "    pop = set()\n",
    "    count = 0\n",
    "\n",
    "    for index, value in mostPopular.items():\n",
    "        count += value\n",
    "        pop.add(index)\n",
    "        if count > threshold*len(train): break\n",
    " \n",
    "    valid['popular'] = valid['work'].isin(pop).astype(int)\n",
    "\n",
    "    accs += [(np.mean(valid['popular'] == valid['read']), threshold)]"
   ]
  },
  {
   "cell_type": "code",
   "execution_count": 40,
   "metadata": {},
   "outputs": [
    {
     "data": {
      "text/plain": [
       "[(0.7501, 0.66),\n",
       " (0.75005, 0.67),\n",
       " (0.75005, 0.65),\n",
       " (0.74985, 0.64),\n",
       " (0.7497, 0.63)]"
      ]
     },
     "execution_count": 40,
     "metadata": {},
     "output_type": "execute_result"
    }
   ],
   "source": [
    "sorted(accs,reverse=True)[:5]"
   ]
  },
  {
   "cell_type": "code",
   "execution_count": 41,
   "metadata": {},
   "outputs": [
    {
     "data": {
      "text/html": [
       "<div>\n",
       "<style scoped>\n",
       "    .dataframe tbody tr th:only-of-type {\n",
       "        vertical-align: middle;\n",
       "    }\n",
       "\n",
       "    .dataframe tbody tr th {\n",
       "        vertical-align: top;\n",
       "    }\n",
       "\n",
       "    .dataframe thead th {\n",
       "        text-align: right;\n",
       "    }\n",
       "</style>\n",
       "<table border=\"1\" class=\"dataframe\">\n",
       "  <thead>\n",
       "    <tr style=\"text-align: right;\">\n",
       "      <th></th>\n",
       "      <th>work</th>\n",
       "      <th>user</th>\n",
       "      <th>read</th>\n",
       "      <th>popular</th>\n",
       "    </tr>\n",
       "  </thead>\n",
       "  <tbody>\n",
       "    <tr>\n",
       "      <th>0</th>\n",
       "      <td>24671</td>\n",
       "      <td>Thalia</td>\n",
       "      <td>1</td>\n",
       "      <td>1</td>\n",
       "    </tr>\n",
       "    <tr>\n",
       "      <th>1</th>\n",
       "      <td>435827</td>\n",
       "      <td>LMClibrary</td>\n",
       "      <td>1</td>\n",
       "      <td>0</td>\n",
       "    </tr>\n",
       "    <tr>\n",
       "      <th>2</th>\n",
       "      <td>10261765</td>\n",
       "      <td>pollywannabook</td>\n",
       "      <td>1</td>\n",
       "      <td>1</td>\n",
       "    </tr>\n",
       "    <tr>\n",
       "      <th>3</th>\n",
       "      <td>5927153</td>\n",
       "      <td>aleya79</td>\n",
       "      <td>1</td>\n",
       "      <td>1</td>\n",
       "    </tr>\n",
       "    <tr>\n",
       "      <th>4</th>\n",
       "      <td>8574826</td>\n",
       "      <td>chrystalm</td>\n",
       "      <td>1</td>\n",
       "      <td>1</td>\n",
       "    </tr>\n",
       "    <tr>\n",
       "      <th>...</th>\n",
       "      <td>...</td>\n",
       "      <td>...</td>\n",
       "      <td>...</td>\n",
       "      <td>...</td>\n",
       "    </tr>\n",
       "    <tr>\n",
       "      <th>19995</th>\n",
       "      <td>385125</td>\n",
       "      <td>Jellyn</td>\n",
       "      <td>0</td>\n",
       "      <td>0</td>\n",
       "    </tr>\n",
       "    <tr>\n",
       "      <th>19996</th>\n",
       "      <td>5542886</td>\n",
       "      <td>ShanaPat</td>\n",
       "      <td>0</td>\n",
       "      <td>0</td>\n",
       "    </tr>\n",
       "    <tr>\n",
       "      <th>19997</th>\n",
       "      <td>1789647</td>\n",
       "      <td>koeniel</td>\n",
       "      <td>0</td>\n",
       "      <td>0</td>\n",
       "    </tr>\n",
       "    <tr>\n",
       "      <th>19998</th>\n",
       "      <td>1724195</td>\n",
       "      <td>Ductor</td>\n",
       "      <td>0</td>\n",
       "      <td>0</td>\n",
       "    </tr>\n",
       "    <tr>\n",
       "      <th>19999</th>\n",
       "      <td>50822</td>\n",
       "      <td>vincent1959</td>\n",
       "      <td>0</td>\n",
       "      <td>0</td>\n",
       "    </tr>\n",
       "  </tbody>\n",
       "</table>\n",
       "<p>20000 rows × 4 columns</p>\n",
       "</div>"
      ],
      "text/plain": [
       "           work            user  read  popular\n",
       "0         24671          Thalia     1        1\n",
       "1        435827      LMClibrary     1        0\n",
       "2      10261765  pollywannabook     1        1\n",
       "3       5927153         aleya79     1        1\n",
       "4       8574826       chrystalm     1        1\n",
       "...         ...             ...   ...      ...\n",
       "19995    385125          Jellyn     0        0\n",
       "19996   5542886        ShanaPat     0        0\n",
       "19997   1789647         koeniel     0        0\n",
       "19998   1724195          Ductor     0        0\n",
       "19999     50822     vincent1959     0        0\n",
       "\n",
       "[20000 rows x 4 columns]"
      ]
     },
     "execution_count": 41,
     "metadata": {},
     "output_type": "execute_result"
    }
   ],
   "source": [
    "pop = set()\n",
    "count = 0\n",
    "\n",
    "for index, value in mostPopular.items():\n",
    "    count += value\n",
    "    pop.add(index)\n",
    "    if count > 0.67*len(train): break\n",
    "\n",
    "valid['popular'] = valid['work'].isin(pop).astype(int)\n",
    "\n",
    "valid"
   ]
  },
  {
   "cell_type": "markdown",
   "metadata": {},
   "source": [
    "### similarity"
   ]
  },
  {
   "cell_type": "code",
   "execution_count": 42,
   "metadata": {},
   "outputs": [],
   "source": [
    "def Jaccard(s1, s2):\n",
    "    numer = len(s1.intersection(s2))\n",
    "    denom = len(s1.union(s2))\n",
    "    return numer / denom\n",
    "\n",
    "def predictPlay(threshold, jacInput):\n",
    "    \n",
    "    if jacInput[0][0] >= threshold:\n",
    "        return 1\n",
    "    return 0\n",
    "\n",
    "def mostSimilarFast(w, u):\n",
    "    if w not in workList or u not in userList:\n",
    "        return (0,w)\n",
    "    similarities = []\n",
    "    works = worksPerUser.get_group(u)\n",
    "    gUsers = usersPerWork.get_group(w)\n",
    "    candidateUsers = set()\n",
    "    for w2 in works:\n",
    "        g2users = usersPerWork.get_group(w2)\n",
    "        sim = Jaccard(set(gUsers), set(g2users))\n",
    "        similarities.append((sim,w2))\n",
    "    similarities.sort(reverse=True)\n",
    "    if similarities == []:\n",
    "        return (0,w)\n",
    "    return similarities[0]"
   ]
  },
  {
   "cell_type": "code",
   "execution_count": 43,
   "metadata": {},
   "outputs": [
    {
     "name": "stdout",
     "output_type": "stream",
     "text": [
      "1000\n",
      "2000\n",
      "3000\n",
      "4000\n",
      "5000\n",
      "6000\n",
      "7000\n",
      "8000\n",
      "9000\n",
      "10000\n",
      "11000\n",
      "12000\n",
      "13000\n",
      "14000\n",
      "15000\n",
      "16000\n",
      "17000\n",
      "18000\n",
      "19000\n",
      "20000\n"
     ]
    }
   ],
   "source": [
    "jacs = []\n",
    "i = 0\n",
    "\n",
    "for d in zip(valid['work'],valid['user']):\n",
    "    jacs.append(mostSimilarFast(d[0],d[1]))\n",
    "    i += 1\n",
    "    if i%1000==0:\n",
    "        print(i)"
   ]
  },
  {
   "cell_type": "code",
   "execution_count": 44,
   "metadata": {},
   "outputs": [],
   "source": [
    "valid['jacs'] = [j[0] for j in jacs]"
   ]
  },
  {
   "cell_type": "code",
   "execution_count": 144,
   "metadata": {},
   "outputs": [
    {
     "data": {
      "text/html": [
       "<div>\n",
       "<style scoped>\n",
       "    .dataframe tbody tr th:only-of-type {\n",
       "        vertical-align: middle;\n",
       "    }\n",
       "\n",
       "    .dataframe tbody tr th {\n",
       "        vertical-align: top;\n",
       "    }\n",
       "\n",
       "    .dataframe thead th {\n",
       "        text-align: right;\n",
       "    }\n",
       "</style>\n",
       "<table border=\"1\" class=\"dataframe\">\n",
       "  <thead>\n",
       "    <tr style=\"text-align: right;\">\n",
       "      <th></th>\n",
       "      <th>work</th>\n",
       "      <th>user</th>\n",
       "      <th>stars</th>\n",
       "      <th>nhelpful</th>\n",
       "      <th>read</th>\n",
       "      <th>popular</th>\n",
       "    </tr>\n",
       "  </thead>\n",
       "  <tbody>\n",
       "    <tr>\n",
       "      <th>0</th>\n",
       "      <td>24671</td>\n",
       "      <td>Thalia</td>\n",
       "      <td>4.0</td>\n",
       "      <td>0.000000</td>\n",
       "      <td>1</td>\n",
       "      <td>1</td>\n",
       "    </tr>\n",
       "    <tr>\n",
       "      <th>1</th>\n",
       "      <td>435827</td>\n",
       "      <td>LMClibrary</td>\n",
       "      <td>0.0</td>\n",
       "      <td>0.000000</td>\n",
       "      <td>1</td>\n",
       "      <td>0</td>\n",
       "    </tr>\n",
       "    <tr>\n",
       "      <th>2</th>\n",
       "      <td>10261765</td>\n",
       "      <td>pollywannabook</td>\n",
       "      <td>5.0</td>\n",
       "      <td>0.000000</td>\n",
       "      <td>1</td>\n",
       "      <td>1</td>\n",
       "    </tr>\n",
       "    <tr>\n",
       "      <th>3</th>\n",
       "      <td>5927153</td>\n",
       "      <td>aleya79</td>\n",
       "      <td>4.5</td>\n",
       "      <td>3.000000</td>\n",
       "      <td>1</td>\n",
       "      <td>1</td>\n",
       "    </tr>\n",
       "    <tr>\n",
       "      <th>4</th>\n",
       "      <td>8574826</td>\n",
       "      <td>chrystalm</td>\n",
       "      <td>5.0</td>\n",
       "      <td>0.000000</td>\n",
       "      <td>1</td>\n",
       "      <td>1</td>\n",
       "    </tr>\n",
       "    <tr>\n",
       "      <th>...</th>\n",
       "      <td>...</td>\n",
       "      <td>...</td>\n",
       "      <td>...</td>\n",
       "      <td>...</td>\n",
       "      <td>...</td>\n",
       "      <td>...</td>\n",
       "    </tr>\n",
       "    <tr>\n",
       "      <th>19995</th>\n",
       "      <td>385125</td>\n",
       "      <td>Jellyn</td>\n",
       "      <td>5.0</td>\n",
       "      <td>0.032609</td>\n",
       "      <td>0</td>\n",
       "      <td>0</td>\n",
       "    </tr>\n",
       "    <tr>\n",
       "      <th>19996</th>\n",
       "      <td>5542886</td>\n",
       "      <td>ShanaPat</td>\n",
       "      <td>4.0</td>\n",
       "      <td>0.026316</td>\n",
       "      <td>0</td>\n",
       "      <td>0</td>\n",
       "    </tr>\n",
       "    <tr>\n",
       "      <th>19997</th>\n",
       "      <td>1789647</td>\n",
       "      <td>koeniel</td>\n",
       "      <td>1.5</td>\n",
       "      <td>0.681818</td>\n",
       "      <td>0</td>\n",
       "      <td>0</td>\n",
       "    </tr>\n",
       "    <tr>\n",
       "      <th>19998</th>\n",
       "      <td>1724195</td>\n",
       "      <td>Ductor</td>\n",
       "      <td>5.0</td>\n",
       "      <td>0.343750</td>\n",
       "      <td>0</td>\n",
       "      <td>0</td>\n",
       "    </tr>\n",
       "    <tr>\n",
       "      <th>19999</th>\n",
       "      <td>50822</td>\n",
       "      <td>vincent1959</td>\n",
       "      <td>0.0</td>\n",
       "      <td>0.000000</td>\n",
       "      <td>0</td>\n",
       "      <td>0</td>\n",
       "    </tr>\n",
       "  </tbody>\n",
       "</table>\n",
       "<p>20000 rows × 6 columns</p>\n",
       "</div>"
      ],
      "text/plain": [
       "           work            user  stars  nhelpful  read  popular\n",
       "0         24671          Thalia    4.0  0.000000     1        1\n",
       "1        435827      LMClibrary    0.0  0.000000     1        0\n",
       "2      10261765  pollywannabook    5.0  0.000000     1        1\n",
       "3       5927153         aleya79    4.5  3.000000     1        1\n",
       "4       8574826       chrystalm    5.0  0.000000     1        1\n",
       "...         ...             ...    ...       ...   ...      ...\n",
       "19995    385125          Jellyn    5.0  0.032609     0        0\n",
       "19996   5542886        ShanaPat    4.0  0.026316     0        0\n",
       "19997   1789647         koeniel    1.5  0.681818     0        0\n",
       "19998   1724195          Ductor    5.0  0.343750     0        0\n",
       "19999     50822     vincent1959    0.0  0.000000     0        0\n",
       "\n",
       "[20000 rows x 6 columns]"
      ]
     },
     "execution_count": 144,
     "metadata": {},
     "output_type": "execute_result"
    }
   ],
   "source": [
    "valid"
   ]
  },
  {
   "cell_type": "code",
   "execution_count": 46,
   "metadata": {},
   "outputs": [],
   "source": [
    "jaccs = []\n",
    "\n",
    "for thold in [x/1000 for x in range(0,1001)]:\n",
    "    valid['jaccheck'] = (valid['jacs'] > thold).astype(int)\n",
    "\n",
    "    jaccs += [(np.mean(valid['jaccheck'] == valid['read']),thold)]"
   ]
  },
  {
   "cell_type": "code",
   "execution_count": 47,
   "metadata": {},
   "outputs": [
    {
     "data": {
      "text/plain": [
       "[(0.73625, 0.022),\n",
       " (0.7362, 0.019),\n",
       " (0.73615, 0.016),\n",
       " (0.73605, 0.017),\n",
       " (0.73595, 0.02)]"
      ]
     },
     "execution_count": 47,
     "metadata": {},
     "output_type": "execute_result"
    }
   ],
   "source": [
    "sorted(jaccs, reverse=True)[:5]"
   ]
  },
  {
   "cell_type": "code",
   "execution_count": 48,
   "metadata": {},
   "outputs": [],
   "source": [
    "valid['jaccheck'] = (valid['jacs'] > .016).astype(int)"
   ]
  },
  {
   "cell_type": "code",
   "execution_count": 49,
   "metadata": {},
   "outputs": [
    {
     "data": {
      "text/plain": [
       "0.8123"
      ]
     },
     "execution_count": 49,
     "metadata": {},
     "output_type": "execute_result"
    }
   ],
   "source": [
    "np.mean(valid['jaccheck'] == valid['popular'])"
   ]
  },
  {
   "cell_type": "code",
   "execution_count": 50,
   "metadata": {},
   "outputs": [
    {
     "data": {
      "text/plain": [
       "0.75035"
      ]
     },
     "execution_count": 50,
     "metadata": {},
     "output_type": "execute_result"
    }
   ],
   "source": [
    "np.mean(valid['read'] == (valid['jaccheck'] & valid['popular']))"
   ]
  },
  {
   "cell_type": "code",
   "execution_count": 51,
   "metadata": {},
   "outputs": [
    {
     "name": "stdout",
     "output_type": "stream",
     "text": [
      "0.0\n",
      "0.1\n",
      "0.2\n",
      "0.3\n",
      "0.4\n",
      "0.5\n",
      "0.6\n",
      "0.8\n",
      "0.9\n",
      "1.0\n"
     ]
    }
   ],
   "source": [
    "andaccs = []\n",
    "\n",
    "for threshold in [x*.01 for x in range(0,101)]:\n",
    "    if len(str(threshold)) == 3:\n",
    "        print(threshold)\n",
    "    \n",
    "    pop = set()\n",
    "    count = 0\n",
    "\n",
    "    for index, value in mostPopular.items():\n",
    "        count += value\n",
    "        pop.add(index)\n",
    "        if count > threshold*len(train): break\n",
    "\n",
    "    valid['popular'] = valid['work'].isin(pop).astype(int)\n",
    "    \n",
    "    for thold in [x/1000 for x in range(0,1001)]:\n",
    "        valid['jaccheck'] = (valid['jacs'] > thold).astype(int)\n",
    "        andaccs += [(np.mean(valid['read'] == (valid['jaccheck'] & valid['popular'])),threshold,thold)]"
   ]
  },
  {
   "cell_type": "code",
   "execution_count": 52,
   "metadata": {},
   "outputs": [
    {
     "data": {
      "text/plain": [
       "[(0.7591, 0.8, 0.014),\n",
       " (0.7591, 0.8, 0.011),\n",
       " (0.75905, 0.79, 0.011),\n",
       " (0.75905, 0.78, 0.011),\n",
       " (0.75905, 0.77, 0.011)]"
      ]
     },
     "execution_count": 52,
     "metadata": {},
     "output_type": "execute_result"
    }
   ],
   "source": [
    "sorted(andaccs,reverse=True)[:5]"
   ]
  },
  {
   "cell_type": "code",
   "execution_count": 53,
   "metadata": {},
   "outputs": [
    {
     "data": {
      "text/html": [
       "<div>\n",
       "<style scoped>\n",
       "    .dataframe tbody tr th:only-of-type {\n",
       "        vertical-align: middle;\n",
       "    }\n",
       "\n",
       "    .dataframe tbody tr th {\n",
       "        vertical-align: top;\n",
       "    }\n",
       "\n",
       "    .dataframe thead th {\n",
       "        text-align: right;\n",
       "    }\n",
       "</style>\n",
       "<table border=\"1\" class=\"dataframe\">\n",
       "  <thead>\n",
       "    <tr style=\"text-align: right;\">\n",
       "      <th></th>\n",
       "      <th>work</th>\n",
       "      <th>user</th>\n",
       "      <th>read</th>\n",
       "      <th>popular</th>\n",
       "      <th>jacs</th>\n",
       "      <th>jaccheck</th>\n",
       "    </tr>\n",
       "  </thead>\n",
       "  <tbody>\n",
       "    <tr>\n",
       "      <th>0</th>\n",
       "      <td>24671</td>\n",
       "      <td>Thalia</td>\n",
       "      <td>1</td>\n",
       "      <td>1</td>\n",
       "      <td>0.200000</td>\n",
       "      <td>1</td>\n",
       "    </tr>\n",
       "    <tr>\n",
       "      <th>1</th>\n",
       "      <td>435827</td>\n",
       "      <td>LMClibrary</td>\n",
       "      <td>1</td>\n",
       "      <td>0</td>\n",
       "      <td>0.000000</td>\n",
       "      <td>0</td>\n",
       "    </tr>\n",
       "    <tr>\n",
       "      <th>2</th>\n",
       "      <td>10261765</td>\n",
       "      <td>pollywannabook</td>\n",
       "      <td>1</td>\n",
       "      <td>1</td>\n",
       "      <td>0.259191</td>\n",
       "      <td>1</td>\n",
       "    </tr>\n",
       "    <tr>\n",
       "      <th>3</th>\n",
       "      <td>5927153</td>\n",
       "      <td>aleya79</td>\n",
       "      <td>1</td>\n",
       "      <td>1</td>\n",
       "      <td>0.085669</td>\n",
       "      <td>1</td>\n",
       "    </tr>\n",
       "    <tr>\n",
       "      <th>4</th>\n",
       "      <td>8574826</td>\n",
       "      <td>chrystalm</td>\n",
       "      <td>1</td>\n",
       "      <td>1</td>\n",
       "      <td>0.413934</td>\n",
       "      <td>1</td>\n",
       "    </tr>\n",
       "    <tr>\n",
       "      <th>...</th>\n",
       "      <td>...</td>\n",
       "      <td>...</td>\n",
       "      <td>...</td>\n",
       "      <td>...</td>\n",
       "      <td>...</td>\n",
       "      <td>...</td>\n",
       "    </tr>\n",
       "    <tr>\n",
       "      <th>19995</th>\n",
       "      <td>385125</td>\n",
       "      <td>Jellyn</td>\n",
       "      <td>0</td>\n",
       "      <td>0</td>\n",
       "      <td>0.000000</td>\n",
       "      <td>0</td>\n",
       "    </tr>\n",
       "    <tr>\n",
       "      <th>19996</th>\n",
       "      <td>5542886</td>\n",
       "      <td>ShanaPat</td>\n",
       "      <td>0</td>\n",
       "      <td>0</td>\n",
       "      <td>0.000000</td>\n",
       "      <td>0</td>\n",
       "    </tr>\n",
       "    <tr>\n",
       "      <th>19997</th>\n",
       "      <td>1789647</td>\n",
       "      <td>koeniel</td>\n",
       "      <td>0</td>\n",
       "      <td>1</td>\n",
       "      <td>0.002506</td>\n",
       "      <td>0</td>\n",
       "    </tr>\n",
       "    <tr>\n",
       "      <th>19998</th>\n",
       "      <td>1724195</td>\n",
       "      <td>Ductor</td>\n",
       "      <td>0</td>\n",
       "      <td>0</td>\n",
       "      <td>0.000000</td>\n",
       "      <td>0</td>\n",
       "    </tr>\n",
       "    <tr>\n",
       "      <th>19999</th>\n",
       "      <td>50822</td>\n",
       "      <td>vincent1959</td>\n",
       "      <td>0</td>\n",
       "      <td>0</td>\n",
       "      <td>0.000000</td>\n",
       "      <td>0</td>\n",
       "    </tr>\n",
       "  </tbody>\n",
       "</table>\n",
       "<p>20000 rows × 6 columns</p>\n",
       "</div>"
      ],
      "text/plain": [
       "           work            user  read  popular      jacs  jaccheck\n",
       "0         24671          Thalia     1        1  0.200000         1\n",
       "1        435827      LMClibrary     1        0  0.000000         0\n",
       "2      10261765  pollywannabook     1        1  0.259191         1\n",
       "3       5927153         aleya79     1        1  0.085669         1\n",
       "4       8574826       chrystalm     1        1  0.413934         1\n",
       "...         ...             ...   ...      ...       ...       ...\n",
       "19995    385125          Jellyn     0        0  0.000000         0\n",
       "19996   5542886        ShanaPat     0        0  0.000000         0\n",
       "19997   1789647         koeniel     0        1  0.002506         0\n",
       "19998   1724195          Ductor     0        0  0.000000         0\n",
       "19999     50822     vincent1959     0        0  0.000000         0\n",
       "\n",
       "[20000 rows x 6 columns]"
      ]
     },
     "execution_count": 53,
     "metadata": {},
     "output_type": "execute_result"
    }
   ],
   "source": [
    "pop = set()\n",
    "count = 0\n",
    "\n",
    "for index, value in mostPopular.items():\n",
    "    count += value\n",
    "    pop.add(index)\n",
    "    if count > 0.79*len(train): break\n",
    "        \n",
    "valid['popular'] = valid['work'].isin(pop).astype(int)\n",
    "valid['jaccheck'] = (valid['jacs'] > 0.01).astype(int)\n",
    "valid"
   ]
  },
  {
   "cell_type": "code",
   "execution_count": 54,
   "metadata": {},
   "outputs": [
    {
     "name": "stdout",
     "output_type": "stream",
     "text": [
      "0.0\n",
      "0.1\n",
      "0.2\n",
      "0.3\n",
      "0.4\n",
      "0.5\n",
      "0.6\n",
      "0.8\n",
      "0.9\n",
      "1.0\n"
     ]
    }
   ],
   "source": [
    "oraccs = []\n",
    "\n",
    "for threshold in [x*.01 for x in range(0,101)]:\n",
    "    if len(str(threshold)) == 3:\n",
    "        print(threshold)\n",
    "    \n",
    "    pop = set()\n",
    "    count = 0\n",
    "\n",
    "    for index, value in mostPopular.items():\n",
    "        count += value\n",
    "        pop.add(index)\n",
    "        if count > threshold*len(train): break\n",
    "\n",
    "    valid['popular'] = valid['work'].isin(pop).astype(int)\n",
    "    \n",
    "    for thold in [x/1000 for x in range(0,1001)]:\n",
    "        valid['jaccheck'] = (valid['jacs'] > thold).astype(int)\n",
    "        oraccs += [(np.mean(valid['read'] == (valid['jaccheck'] | valid['popular'])),threshold,thold)]"
   ]
  },
  {
   "cell_type": "code",
   "execution_count": 55,
   "metadata": {},
   "outputs": [
    {
     "data": {
      "text/plain": [
       "[(0.77415, 0.58, 0.103),\n",
       " (0.77415, 0.58, 0.102),\n",
       " (0.77415, 0.58, 0.101),\n",
       " (0.77415, 0.58, 0.1),\n",
       " (0.77405, 0.58, 0.105)]"
      ]
     },
     "execution_count": 55,
     "metadata": {},
     "output_type": "execute_result"
    }
   ],
   "source": [
    "sorted(oraccs,reverse=True)[:5]"
   ]
  },
  {
   "cell_type": "code",
   "execution_count": 150,
   "metadata": {},
   "outputs": [],
   "source": [
    "valid['jacs']=[j[0] for j in jacs]"
   ]
  },
  {
   "cell_type": "code",
   "execution_count": 151,
   "metadata": {},
   "outputs": [],
   "source": [
    "pop = set()\n",
    "count = 0\n",
    "\n",
    "for index, value in mostPopular.items():\n",
    "    count += value\n",
    "    pop.add(index)\n",
    "    if count > .58*len(train): break\n",
    "\n",
    "valid['popular'] = valid['work'].isin(pop).astype(int)"
   ]
  },
  {
   "cell_type": "code",
   "execution_count": 152,
   "metadata": {},
   "outputs": [],
   "source": [
    "valid['jaccheck'] = (valid['jacs'] > .103).astype(int)"
   ]
  },
  {
   "cell_type": "code",
   "execution_count": 159,
   "metadata": {},
   "outputs": [],
   "source": [
    "valid['starcheck'] = valid['stars'] >= 4\n",
    "valid['helpcheck'] = valid['nhelpful'] >= np.mean(valid['nhelpful'])"
   ]
  },
  {
   "cell_type": "code",
   "execution_count": 193,
   "metadata": {},
   "outputs": [
    {
     "data": {
      "text/plain": [
       "0.2763"
      ]
     },
     "execution_count": 193,
     "metadata": {},
     "output_type": "execute_result"
    }
   ],
   "source": [
    "np.mean(valid['jacs']>np.mean(valid['jacs']))"
   ]
  },
  {
   "cell_type": "code",
   "execution_count": 163,
   "metadata": {},
   "outputs": [
    {
     "data": {
      "text/plain": [
       "0.57865"
      ]
     },
     "execution_count": 163,
     "metadata": {},
     "output_type": "execute_result"
    }
   ],
   "source": [
    "np.mean(valid['starcheck'] == valid['read'])"
   ]
  },
  {
   "cell_type": "code",
   "execution_count": 172,
   "metadata": {},
   "outputs": [
    {
     "data": {
      "text/plain": [
       "0.77415"
      ]
     },
     "execution_count": 172,
     "metadata": {},
     "output_type": "execute_result"
    }
   ],
   "source": [
    "np.mean(valid['read'] == (valid['jaccheck'] | valid['popular']))"
   ]
  },
  {
   "cell_type": "code",
   "execution_count": 186,
   "metadata": {},
   "outputs": [
    {
     "data": {
      "text/plain": [
       "0.6756"
      ]
     },
     "execution_count": 186,
     "metadata": {},
     "output_type": "execute_result"
    }
   ],
   "source": [
    "np.mean((valid['jaccheck'] | valid['popular'])[:10000]==1)"
   ]
  },
  {
   "cell_type": "code",
   "execution_count": 185,
   "metadata": {},
   "outputs": [
    {
     "data": {
      "text/plain": [
       "0.8727"
      ]
     },
     "execution_count": 185,
     "metadata": {},
     "output_type": "execute_result"
    }
   ],
   "source": [
    "np.mean((valid['jaccheck'] | valid['popular'])[10000:]==0)"
   ]
  },
  {
   "cell_type": "code",
   "execution_count": 188,
   "metadata": {},
   "outputs": [
    {
     "data": {
      "text/plain": [
       "0.77415"
      ]
     },
     "execution_count": 188,
     "metadata": {},
     "output_type": "execute_result"
    }
   ],
   "source": [
    "(np.mean((valid['jaccheck'] | valid['popular'])[:10000]==1) + np.mean((valid['jaccheck'] | valid['popular'])[10000:]==0))/2"
   ]
  }
 ],
 "metadata": {
  "kernelspec": {
   "display_name": "Python 3",
   "language": "python",
   "name": "python3"
  },
  "language_info": {
   "codemirror_mode": {
    "name": "ipython",
    "version": 3
   },
   "file_extension": ".py",
   "mimetype": "text/x-python",
   "name": "python",
   "nbconvert_exporter": "python",
   "pygments_lexer": "ipython3",
   "version": "3.7.9"
  }
 },
 "nbformat": 4,
 "nbformat_minor": 4
}
